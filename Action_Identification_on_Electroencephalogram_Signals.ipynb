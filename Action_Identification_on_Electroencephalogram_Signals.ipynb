{
  "nbformat": 4,
  "nbformat_minor": 0,
  "metadata": {
    "colab": {
      "provenance": [],
      "authorship_tag": "ABX9TyPuyRTb+u2s0Ugv10UjUPXZ",
      "include_colab_link": true
    },
    "kernelspec": {
      "name": "python3",
      "display_name": "Python 3"
    },
    "language_info": {
      "name": "python"
    }
  },
  "cells": [
    {
      "cell_type": "markdown",
      "metadata": {
        "id": "view-in-github",
        "colab_type": "text"
      },
      "source": [
        "<a href=\"https://colab.research.google.com/github/MajidNoorani/action-identification-with-Electroencephalogram-Signal/blob/main/Action_Identification_on_Electroencephalogram_Signals.ipynb\" target=\"_parent\"><img src=\"https://colab.research.google.com/assets/colab-badge.svg\" alt=\"Open In Colab\"/></a>"
      ]
    },
    {
      "cell_type": "markdown",
      "source": [
        "## Import packages"
      ],
      "metadata": {
        "id": "unDf4ysc2wVf"
      }
    },
    {
      "cell_type": "code",
      "source": [
        "import zipfile\n",
        "import pandas as pd\n",
        "import matplotlib.pyplot as plt\n",
        "import math\n",
        "import json\n",
        "import numpy as np\n",
        "import keras\n",
        "from keras import layers\n",
        "import tensorflow as tf\n",
        "from sklearn import preprocessing, model_selection\n",
        "import random"
      ],
      "metadata": {
        "id": "sm-CpQRv22xm"
      },
      "execution_count": 1,
      "outputs": []
    },
    {
      "cell_type": "markdown",
      "source": [
        "## Data\n",
        "Download the [data](https://www.kaggle.com/datasets/berkeley-biosense/synchronized-brainwave-dataset?resource=download) and put it in a directory\n",
        "\n",
        "and then extract the csv data from it"
      ],
      "metadata": {
        "id": "VvHh-MrZ1YLR"
      }
    },
    {
      "cell_type": "code",
      "execution_count": 2,
      "metadata": {
        "id": "ejTbGKg60ORT"
      },
      "outputs": [],
      "source": [
        "# extracting eeg-data into data folder\n",
        "with zipfile.ZipFile('/content/eeg-data.csv.zip', 'r') as zip_ref:\n",
        "    zip_ref.extractall('/content/data')"
      ]
    },
    {
      "cell_type": "code",
      "source": [
        "df = pd.read_csv('/content/data/eeg-data.csv')\n",
        "df.head()"
      ],
      "metadata": {
        "colab": {
          "base_uri": "https://localhost:8080/",
          "height": 660
        },
        "id": "7kLQcDHg2ubY",
        "outputId": "7b2f142d-c078-4e06-a2b6-bf063990a441"
      },
      "execution_count": null,
      "outputs": [
        {
          "output_type": "execute_result",
          "data": {
            "text/plain": [
              "   Unnamed: 0  id               indra_time browser_latency  \\\n",
              "0        3730  12  2015-05-09 23:13:42.281            1461   \n",
              "1        3732  12  2015-05-09 23:13:43.186            1461   \n",
              "2        3734  12  2015-05-09 23:13:44.392            1461   \n",
              "3        3735  12  2015-05-09 23:13:45.297            1461   \n",
              "4        3737  12  2015-05-09 23:13:46.201            1460   \n",
              "\n",
              "              reading_time  attention_esense  meditation_esense  \\\n",
              "0  2015-05-09 16:13:40.954                 0                  0   \n",
              "1  2015-05-09 16:13:41.964                 0                  0   \n",
              "2  2015-05-09 16:13:42.950                 0                  0   \n",
              "3  2015-05-09 16:13:43.935                 0                  0   \n",
              "4  2015-05-09 16:13:44.936                 0                  0   \n",
              "\n",
              "                                           eeg_power  \\\n",
              "0  [944412.0, 111373.0, 52404.0, 28390.0, 3237.0,...   \n",
              "1  [1793049.0, 89551.0, 3896.0, 21727.0, 9301.0, ...   \n",
              "2  [400192.0, 640624.0, 153087.0, 69733.0, 98854....   \n",
              "3  [681192.0, 138630.0, 67891.0, 26459.0, 592240....   \n",
              "4  [268406.0, 197772.0, 190654.0, 266433.0, 91683...   \n",
              "\n",
              "                                          raw_values  signal_quality  \\\n",
              "0  [-203.0, -202.0, -196.0, -185.0, -163.0, -137....             200   \n",
              "1  [104.0, 134.0, 128.0, 121.0, 145.0, 151.0, 123...             200   \n",
              "2  [2002.0, 2047.0, 2047.0, 2047.0, 2047.0, 2047....             200   \n",
              "3  [1287.0, 1241.0, 1196.0, 1155.0, 1113.0, 1072....             200   \n",
              "4  [1905.0, 1836.0, 1770.0, 1707.0, 1645.0, 1587....             200   \n",
              "\n",
              "                 createdAt                   updatedAt      label  \n",
              "0  2015-05-09 23:13:39.550  2015-05-09 23:13:39.549+00  unlabeled  \n",
              "1  2015-05-09 23:13:40.559  2015-05-09 23:13:40.559+00  unlabeled  \n",
              "2  2015-05-09 23:13:41.549  2015-05-09 23:13:41.549+00  unlabeled  \n",
              "3  2015-05-09 23:13:42.532  2015-05-09 23:13:42.532+00  unlabeled  \n",
              "4  2015-05-09 23:13:43.532  2015-05-09 23:13:43.532+00  unlabeled  "
            ],
            "text/html": [
              "\n",
              "  <div id=\"df-e26d7f82-56fa-44ab-ae65-bf3674c70fc4\" class=\"colab-df-container\">\n",
              "    <div>\n",
              "<style scoped>\n",
              "    .dataframe tbody tr th:only-of-type {\n",
              "        vertical-align: middle;\n",
              "    }\n",
              "\n",
              "    .dataframe tbody tr th {\n",
              "        vertical-align: top;\n",
              "    }\n",
              "\n",
              "    .dataframe thead th {\n",
              "        text-align: right;\n",
              "    }\n",
              "</style>\n",
              "<table border=\"1\" class=\"dataframe\">\n",
              "  <thead>\n",
              "    <tr style=\"text-align: right;\">\n",
              "      <th></th>\n",
              "      <th>Unnamed: 0</th>\n",
              "      <th>id</th>\n",
              "      <th>indra_time</th>\n",
              "      <th>browser_latency</th>\n",
              "      <th>reading_time</th>\n",
              "      <th>attention_esense</th>\n",
              "      <th>meditation_esense</th>\n",
              "      <th>eeg_power</th>\n",
              "      <th>raw_values</th>\n",
              "      <th>signal_quality</th>\n",
              "      <th>createdAt</th>\n",
              "      <th>updatedAt</th>\n",
              "      <th>label</th>\n",
              "    </tr>\n",
              "  </thead>\n",
              "  <tbody>\n",
              "    <tr>\n",
              "      <th>0</th>\n",
              "      <td>3730</td>\n",
              "      <td>12</td>\n",
              "      <td>2015-05-09 23:13:42.281</td>\n",
              "      <td>1461</td>\n",
              "      <td>2015-05-09 16:13:40.954</td>\n",
              "      <td>0</td>\n",
              "      <td>0</td>\n",
              "      <td>[944412.0, 111373.0, 52404.0, 28390.0, 3237.0,...</td>\n",
              "      <td>[-203.0, -202.0, -196.0, -185.0, -163.0, -137....</td>\n",
              "      <td>200</td>\n",
              "      <td>2015-05-09 23:13:39.550</td>\n",
              "      <td>2015-05-09 23:13:39.549+00</td>\n",
              "      <td>unlabeled</td>\n",
              "    </tr>\n",
              "    <tr>\n",
              "      <th>1</th>\n",
              "      <td>3732</td>\n",
              "      <td>12</td>\n",
              "      <td>2015-05-09 23:13:43.186</td>\n",
              "      <td>1461</td>\n",
              "      <td>2015-05-09 16:13:41.964</td>\n",
              "      <td>0</td>\n",
              "      <td>0</td>\n",
              "      <td>[1793049.0, 89551.0, 3896.0, 21727.0, 9301.0, ...</td>\n",
              "      <td>[104.0, 134.0, 128.0, 121.0, 145.0, 151.0, 123...</td>\n",
              "      <td>200</td>\n",
              "      <td>2015-05-09 23:13:40.559</td>\n",
              "      <td>2015-05-09 23:13:40.559+00</td>\n",
              "      <td>unlabeled</td>\n",
              "    </tr>\n",
              "    <tr>\n",
              "      <th>2</th>\n",
              "      <td>3734</td>\n",
              "      <td>12</td>\n",
              "      <td>2015-05-09 23:13:44.392</td>\n",
              "      <td>1461</td>\n",
              "      <td>2015-05-09 16:13:42.950</td>\n",
              "      <td>0</td>\n",
              "      <td>0</td>\n",
              "      <td>[400192.0, 640624.0, 153087.0, 69733.0, 98854....</td>\n",
              "      <td>[2002.0, 2047.0, 2047.0, 2047.0, 2047.0, 2047....</td>\n",
              "      <td>200</td>\n",
              "      <td>2015-05-09 23:13:41.549</td>\n",
              "      <td>2015-05-09 23:13:41.549+00</td>\n",
              "      <td>unlabeled</td>\n",
              "    </tr>\n",
              "    <tr>\n",
              "      <th>3</th>\n",
              "      <td>3735</td>\n",
              "      <td>12</td>\n",
              "      <td>2015-05-09 23:13:45.297</td>\n",
              "      <td>1461</td>\n",
              "      <td>2015-05-09 16:13:43.935</td>\n",
              "      <td>0</td>\n",
              "      <td>0</td>\n",
              "      <td>[681192.0, 138630.0, 67891.0, 26459.0, 592240....</td>\n",
              "      <td>[1287.0, 1241.0, 1196.0, 1155.0, 1113.0, 1072....</td>\n",
              "      <td>200</td>\n",
              "      <td>2015-05-09 23:13:42.532</td>\n",
              "      <td>2015-05-09 23:13:42.532+00</td>\n",
              "      <td>unlabeled</td>\n",
              "    </tr>\n",
              "    <tr>\n",
              "      <th>4</th>\n",
              "      <td>3737</td>\n",
              "      <td>12</td>\n",
              "      <td>2015-05-09 23:13:46.201</td>\n",
              "      <td>1460</td>\n",
              "      <td>2015-05-09 16:13:44.936</td>\n",
              "      <td>0</td>\n",
              "      <td>0</td>\n",
              "      <td>[268406.0, 197772.0, 190654.0, 266433.0, 91683...</td>\n",
              "      <td>[1905.0, 1836.0, 1770.0, 1707.0, 1645.0, 1587....</td>\n",
              "      <td>200</td>\n",
              "      <td>2015-05-09 23:13:43.532</td>\n",
              "      <td>2015-05-09 23:13:43.532+00</td>\n",
              "      <td>unlabeled</td>\n",
              "    </tr>\n",
              "  </tbody>\n",
              "</table>\n",
              "</div>\n",
              "    <div class=\"colab-df-buttons\">\n",
              "\n",
              "  <div class=\"colab-df-container\">\n",
              "    <button class=\"colab-df-convert\" onclick=\"convertToInteractive('df-e26d7f82-56fa-44ab-ae65-bf3674c70fc4')\"\n",
              "            title=\"Convert this dataframe to an interactive table.\"\n",
              "            style=\"display:none;\">\n",
              "\n",
              "  <svg xmlns=\"http://www.w3.org/2000/svg\" height=\"24px\" viewBox=\"0 -960 960 960\">\n",
              "    <path d=\"M120-120v-720h720v720H120Zm60-500h600v-160H180v160Zm220 220h160v-160H400v160Zm0 220h160v-160H400v160ZM180-400h160v-160H180v160Zm440 0h160v-160H620v160ZM180-180h160v-160H180v160Zm440 0h160v-160H620v160Z\"/>\n",
              "  </svg>\n",
              "    </button>\n",
              "\n",
              "  <style>\n",
              "    .colab-df-container {\n",
              "      display:flex;\n",
              "      gap: 12px;\n",
              "    }\n",
              "\n",
              "    .colab-df-convert {\n",
              "      background-color: #E8F0FE;\n",
              "      border: none;\n",
              "      border-radius: 50%;\n",
              "      cursor: pointer;\n",
              "      display: none;\n",
              "      fill: #1967D2;\n",
              "      height: 32px;\n",
              "      padding: 0 0 0 0;\n",
              "      width: 32px;\n",
              "    }\n",
              "\n",
              "    .colab-df-convert:hover {\n",
              "      background-color: #E2EBFA;\n",
              "      box-shadow: 0px 1px 2px rgba(60, 64, 67, 0.3), 0px 1px 3px 1px rgba(60, 64, 67, 0.15);\n",
              "      fill: #174EA6;\n",
              "    }\n",
              "\n",
              "    .colab-df-buttons div {\n",
              "      margin-bottom: 4px;\n",
              "    }\n",
              "\n",
              "    [theme=dark] .colab-df-convert {\n",
              "      background-color: #3B4455;\n",
              "      fill: #D2E3FC;\n",
              "    }\n",
              "\n",
              "    [theme=dark] .colab-df-convert:hover {\n",
              "      background-color: #434B5C;\n",
              "      box-shadow: 0px 1px 3px 1px rgba(0, 0, 0, 0.15);\n",
              "      filter: drop-shadow(0px 1px 2px rgba(0, 0, 0, 0.3));\n",
              "      fill: #FFFFFF;\n",
              "    }\n",
              "  </style>\n",
              "\n",
              "    <script>\n",
              "      const buttonEl =\n",
              "        document.querySelector('#df-e26d7f82-56fa-44ab-ae65-bf3674c70fc4 button.colab-df-convert');\n",
              "      buttonEl.style.display =\n",
              "        google.colab.kernel.accessAllowed ? 'block' : 'none';\n",
              "\n",
              "      async function convertToInteractive(key) {\n",
              "        const element = document.querySelector('#df-e26d7f82-56fa-44ab-ae65-bf3674c70fc4');\n",
              "        const dataTable =\n",
              "          await google.colab.kernel.invokeFunction('convertToInteractive',\n",
              "                                                    [key], {});\n",
              "        if (!dataTable) return;\n",
              "\n",
              "        const docLinkHtml = 'Like what you see? Visit the ' +\n",
              "          '<a target=\"_blank\" href=https://colab.research.google.com/notebooks/data_table.ipynb>data table notebook</a>'\n",
              "          + ' to learn more about interactive tables.';\n",
              "        element.innerHTML = '';\n",
              "        dataTable['output_type'] = 'display_data';\n",
              "        await google.colab.output.renderOutput(dataTable, element);\n",
              "        const docLink = document.createElement('div');\n",
              "        docLink.innerHTML = docLinkHtml;\n",
              "        element.appendChild(docLink);\n",
              "      }\n",
              "    </script>\n",
              "  </div>\n",
              "\n",
              "\n",
              "<div id=\"df-ab7b53af-cf9a-4dae-9381-aa669fa26f09\">\n",
              "  <button class=\"colab-df-quickchart\" onclick=\"quickchart('df-ab7b53af-cf9a-4dae-9381-aa669fa26f09')\"\n",
              "            title=\"Suggest charts\"\n",
              "            style=\"display:none;\">\n",
              "\n",
              "<svg xmlns=\"http://www.w3.org/2000/svg\" height=\"24px\"viewBox=\"0 0 24 24\"\n",
              "     width=\"24px\">\n",
              "    <g>\n",
              "        <path d=\"M19 3H5c-1.1 0-2 .9-2 2v14c0 1.1.9 2 2 2h14c1.1 0 2-.9 2-2V5c0-1.1-.9-2-2-2zM9 17H7v-7h2v7zm4 0h-2V7h2v10zm4 0h-2v-4h2v4z\"/>\n",
              "    </g>\n",
              "</svg>\n",
              "  </button>\n",
              "\n",
              "<style>\n",
              "  .colab-df-quickchart {\n",
              "      --bg-color: #E8F0FE;\n",
              "      --fill-color: #1967D2;\n",
              "      --hover-bg-color: #E2EBFA;\n",
              "      --hover-fill-color: #174EA6;\n",
              "      --disabled-fill-color: #AAA;\n",
              "      --disabled-bg-color: #DDD;\n",
              "  }\n",
              "\n",
              "  [theme=dark] .colab-df-quickchart {\n",
              "      --bg-color: #3B4455;\n",
              "      --fill-color: #D2E3FC;\n",
              "      --hover-bg-color: #434B5C;\n",
              "      --hover-fill-color: #FFFFFF;\n",
              "      --disabled-bg-color: #3B4455;\n",
              "      --disabled-fill-color: #666;\n",
              "  }\n",
              "\n",
              "  .colab-df-quickchart {\n",
              "    background-color: var(--bg-color);\n",
              "    border: none;\n",
              "    border-radius: 50%;\n",
              "    cursor: pointer;\n",
              "    display: none;\n",
              "    fill: var(--fill-color);\n",
              "    height: 32px;\n",
              "    padding: 0;\n",
              "    width: 32px;\n",
              "  }\n",
              "\n",
              "  .colab-df-quickchart:hover {\n",
              "    background-color: var(--hover-bg-color);\n",
              "    box-shadow: 0 1px 2px rgba(60, 64, 67, 0.3), 0 1px 3px 1px rgba(60, 64, 67, 0.15);\n",
              "    fill: var(--button-hover-fill-color);\n",
              "  }\n",
              "\n",
              "  .colab-df-quickchart-complete:disabled,\n",
              "  .colab-df-quickchart-complete:disabled:hover {\n",
              "    background-color: var(--disabled-bg-color);\n",
              "    fill: var(--disabled-fill-color);\n",
              "    box-shadow: none;\n",
              "  }\n",
              "\n",
              "  .colab-df-spinner {\n",
              "    border: 2px solid var(--fill-color);\n",
              "    border-color: transparent;\n",
              "    border-bottom-color: var(--fill-color);\n",
              "    animation:\n",
              "      spin 1s steps(1) infinite;\n",
              "  }\n",
              "\n",
              "  @keyframes spin {\n",
              "    0% {\n",
              "      border-color: transparent;\n",
              "      border-bottom-color: var(--fill-color);\n",
              "      border-left-color: var(--fill-color);\n",
              "    }\n",
              "    20% {\n",
              "      border-color: transparent;\n",
              "      border-left-color: var(--fill-color);\n",
              "      border-top-color: var(--fill-color);\n",
              "    }\n",
              "    30% {\n",
              "      border-color: transparent;\n",
              "      border-left-color: var(--fill-color);\n",
              "      border-top-color: var(--fill-color);\n",
              "      border-right-color: var(--fill-color);\n",
              "    }\n",
              "    40% {\n",
              "      border-color: transparent;\n",
              "      border-right-color: var(--fill-color);\n",
              "      border-top-color: var(--fill-color);\n",
              "    }\n",
              "    60% {\n",
              "      border-color: transparent;\n",
              "      border-right-color: var(--fill-color);\n",
              "    }\n",
              "    80% {\n",
              "      border-color: transparent;\n",
              "      border-right-color: var(--fill-color);\n",
              "      border-bottom-color: var(--fill-color);\n",
              "    }\n",
              "    90% {\n",
              "      border-color: transparent;\n",
              "      border-bottom-color: var(--fill-color);\n",
              "    }\n",
              "  }\n",
              "</style>\n",
              "\n",
              "  <script>\n",
              "    async function quickchart(key) {\n",
              "      const quickchartButtonEl =\n",
              "        document.querySelector('#' + key + ' button');\n",
              "      quickchartButtonEl.disabled = true;  // To prevent multiple clicks.\n",
              "      quickchartButtonEl.classList.add('colab-df-spinner');\n",
              "      try {\n",
              "        const charts = await google.colab.kernel.invokeFunction(\n",
              "            'suggestCharts', [key], {});\n",
              "      } catch (error) {\n",
              "        console.error('Error during call to suggestCharts:', error);\n",
              "      }\n",
              "      quickchartButtonEl.classList.remove('colab-df-spinner');\n",
              "      quickchartButtonEl.classList.add('colab-df-quickchart-complete');\n",
              "    }\n",
              "    (() => {\n",
              "      let quickchartButtonEl =\n",
              "        document.querySelector('#df-ab7b53af-cf9a-4dae-9381-aa669fa26f09 button');\n",
              "      quickchartButtonEl.style.display =\n",
              "        google.colab.kernel.accessAllowed ? 'block' : 'none';\n",
              "    })();\n",
              "  </script>\n",
              "</div>\n",
              "    </div>\n",
              "  </div>\n"
            ]
          },
          "metadata": {},
          "execution_count": 37
        }
      ]
    },
    {
      "cell_type": "code",
      "source": [
        "# keeping the rows with proper labels\n",
        "unlabeled_eeg = df[df[\"label\"] == \"unlabeled\"]\n",
        "df = df.loc[df[\"label\"] != \"unlabeled\"]\n",
        "df = df.loc[df[\"label\"] != \"everyone paired\"]"
      ],
      "metadata": {
        "id": "NDlSxXza4EVQ"
      },
      "execution_count": null,
      "outputs": []
    },
    {
      "cell_type": "code",
      "source": [
        "df.columns"
      ],
      "metadata": {
        "colab": {
          "base_uri": "https://localhost:8080/"
        },
        "id": "g4Drnu0Y4jLz",
        "outputId": "cf569eea-01e4-40c2-ac40-f2334038338c"
      },
      "execution_count": null,
      "outputs": [
        {
          "output_type": "execute_result",
          "data": {
            "text/plain": [
              "Index(['Unnamed: 0', 'id', 'indra_time', 'browser_latency', 'reading_time',\n",
              "       'attention_esense', 'meditation_esense', 'eeg_power', 'raw_values',\n",
              "       'signal_quality', 'createdAt', 'updatedAt', 'label'],\n",
              "      dtype='object')"
            ]
          },
          "metadata": {},
          "execution_count": 39
        }
      ]
    },
    {
      "cell_type": "code",
      "source": [
        "# drop unwanted columns\n",
        "df.drop(\n",
        "    [\n",
        "        \"indra_time\",\n",
        "        \"Unnamed: 0\",\n",
        "        \"browser_latency\",\n",
        "        \"reading_time\",\n",
        "        \"attention_esense\",\n",
        "        \"meditation_esense\",\n",
        "        \"updatedAt\",\n",
        "        \"createdAt\",\n",
        "    ],\n",
        "    axis=1,\n",
        "    inplace=True,\n",
        ")\n",
        "\n",
        "df.reset_index(drop=True, inplace=True)\n",
        "df.head()"
      ],
      "metadata": {
        "colab": {
          "base_uri": "https://localhost:8080/",
          "height": 206
        },
        "id": "uvA32Tkm4Zky",
        "outputId": "88ff2ca8-13d8-4247-9e9e-8b4eff886bd3"
      },
      "execution_count": null,
      "outputs": [
        {
          "output_type": "execute_result",
          "data": {
            "text/plain": [
              "   id                                          eeg_power  \\\n",
              "0   7  [56887.0, 45471.0, 20074.0, 5359.0, 22594.0, 7...   \n",
              "1   5  [11626.0, 60301.0, 5805.0, 15729.0, 4448.0, 33...   \n",
              "2   1  [15777.0, 33461.0, 21385.0, 44193.0, 11741.0, ...   \n",
              "3  13  [311822.0, 44739.0, 19000.0, 19100.0, 2650.0, ...   \n",
              "4   4  [687393.0, 10289.0, 2942.0, 9874.0, 1059.0, 29...   \n",
              "\n",
              "                                          raw_values  signal_quality  \\\n",
              "0  [99.0, 96.0, 91.0, 89.0, 91.0, 89.0, 87.0, 93....               0   \n",
              "1  [23.0, 40.0, 64.0, 89.0, 86.0, 33.0, -14.0, -1...               0   \n",
              "2  [41.0, 26.0, 16.0, 20.0, 34.0, 51.0, 56.0, 55....               0   \n",
              "3  [208.0, 198.0, 122.0, 84.0, 161.0, 249.0, 216....               0   \n",
              "4  [129.0, 133.0, 114.0, 105.0, 101.0, 109.0, 99....               0   \n",
              "\n",
              "              label  \n",
              "0  blinkInstruction  \n",
              "1  blinkInstruction  \n",
              "2  blinkInstruction  \n",
              "3  blinkInstruction  \n",
              "4  blinkInstruction  "
            ],
            "text/html": [
              "\n",
              "  <div id=\"df-ddeebfe6-ee69-4a37-b637-e0c76d68ec91\" class=\"colab-df-container\">\n",
              "    <div>\n",
              "<style scoped>\n",
              "    .dataframe tbody tr th:only-of-type {\n",
              "        vertical-align: middle;\n",
              "    }\n",
              "\n",
              "    .dataframe tbody tr th {\n",
              "        vertical-align: top;\n",
              "    }\n",
              "\n",
              "    .dataframe thead th {\n",
              "        text-align: right;\n",
              "    }\n",
              "</style>\n",
              "<table border=\"1\" class=\"dataframe\">\n",
              "  <thead>\n",
              "    <tr style=\"text-align: right;\">\n",
              "      <th></th>\n",
              "      <th>id</th>\n",
              "      <th>eeg_power</th>\n",
              "      <th>raw_values</th>\n",
              "      <th>signal_quality</th>\n",
              "      <th>label</th>\n",
              "    </tr>\n",
              "  </thead>\n",
              "  <tbody>\n",
              "    <tr>\n",
              "      <th>0</th>\n",
              "      <td>7</td>\n",
              "      <td>[56887.0, 45471.0, 20074.0, 5359.0, 22594.0, 7...</td>\n",
              "      <td>[99.0, 96.0, 91.0, 89.0, 91.0, 89.0, 87.0, 93....</td>\n",
              "      <td>0</td>\n",
              "      <td>blinkInstruction</td>\n",
              "    </tr>\n",
              "    <tr>\n",
              "      <th>1</th>\n",
              "      <td>5</td>\n",
              "      <td>[11626.0, 60301.0, 5805.0, 15729.0, 4448.0, 33...</td>\n",
              "      <td>[23.0, 40.0, 64.0, 89.0, 86.0, 33.0, -14.0, -1...</td>\n",
              "      <td>0</td>\n",
              "      <td>blinkInstruction</td>\n",
              "    </tr>\n",
              "    <tr>\n",
              "      <th>2</th>\n",
              "      <td>1</td>\n",
              "      <td>[15777.0, 33461.0, 21385.0, 44193.0, 11741.0, ...</td>\n",
              "      <td>[41.0, 26.0, 16.0, 20.0, 34.0, 51.0, 56.0, 55....</td>\n",
              "      <td>0</td>\n",
              "      <td>blinkInstruction</td>\n",
              "    </tr>\n",
              "    <tr>\n",
              "      <th>3</th>\n",
              "      <td>13</td>\n",
              "      <td>[311822.0, 44739.0, 19000.0, 19100.0, 2650.0, ...</td>\n",
              "      <td>[208.0, 198.0, 122.0, 84.0, 161.0, 249.0, 216....</td>\n",
              "      <td>0</td>\n",
              "      <td>blinkInstruction</td>\n",
              "    </tr>\n",
              "    <tr>\n",
              "      <th>4</th>\n",
              "      <td>4</td>\n",
              "      <td>[687393.0, 10289.0, 2942.0, 9874.0, 1059.0, 29...</td>\n",
              "      <td>[129.0, 133.0, 114.0, 105.0, 101.0, 109.0, 99....</td>\n",
              "      <td>0</td>\n",
              "      <td>blinkInstruction</td>\n",
              "    </tr>\n",
              "  </tbody>\n",
              "</table>\n",
              "</div>\n",
              "    <div class=\"colab-df-buttons\">\n",
              "\n",
              "  <div class=\"colab-df-container\">\n",
              "    <button class=\"colab-df-convert\" onclick=\"convertToInteractive('df-ddeebfe6-ee69-4a37-b637-e0c76d68ec91')\"\n",
              "            title=\"Convert this dataframe to an interactive table.\"\n",
              "            style=\"display:none;\">\n",
              "\n",
              "  <svg xmlns=\"http://www.w3.org/2000/svg\" height=\"24px\" viewBox=\"0 -960 960 960\">\n",
              "    <path d=\"M120-120v-720h720v720H120Zm60-500h600v-160H180v160Zm220 220h160v-160H400v160Zm0 220h160v-160H400v160ZM180-400h160v-160H180v160Zm440 0h160v-160H620v160ZM180-180h160v-160H180v160Zm440 0h160v-160H620v160Z\"/>\n",
              "  </svg>\n",
              "    </button>\n",
              "\n",
              "  <style>\n",
              "    .colab-df-container {\n",
              "      display:flex;\n",
              "      gap: 12px;\n",
              "    }\n",
              "\n",
              "    .colab-df-convert {\n",
              "      background-color: #E8F0FE;\n",
              "      border: none;\n",
              "      border-radius: 50%;\n",
              "      cursor: pointer;\n",
              "      display: none;\n",
              "      fill: #1967D2;\n",
              "      height: 32px;\n",
              "      padding: 0 0 0 0;\n",
              "      width: 32px;\n",
              "    }\n",
              "\n",
              "    .colab-df-convert:hover {\n",
              "      background-color: #E2EBFA;\n",
              "      box-shadow: 0px 1px 2px rgba(60, 64, 67, 0.3), 0px 1px 3px 1px rgba(60, 64, 67, 0.15);\n",
              "      fill: #174EA6;\n",
              "    }\n",
              "\n",
              "    .colab-df-buttons div {\n",
              "      margin-bottom: 4px;\n",
              "    }\n",
              "\n",
              "    [theme=dark] .colab-df-convert {\n",
              "      background-color: #3B4455;\n",
              "      fill: #D2E3FC;\n",
              "    }\n",
              "\n",
              "    [theme=dark] .colab-df-convert:hover {\n",
              "      background-color: #434B5C;\n",
              "      box-shadow: 0px 1px 3px 1px rgba(0, 0, 0, 0.15);\n",
              "      filter: drop-shadow(0px 1px 2px rgba(0, 0, 0, 0.3));\n",
              "      fill: #FFFFFF;\n",
              "    }\n",
              "  </style>\n",
              "\n",
              "    <script>\n",
              "      const buttonEl =\n",
              "        document.querySelector('#df-ddeebfe6-ee69-4a37-b637-e0c76d68ec91 button.colab-df-convert');\n",
              "      buttonEl.style.display =\n",
              "        google.colab.kernel.accessAllowed ? 'block' : 'none';\n",
              "\n",
              "      async function convertToInteractive(key) {\n",
              "        const element = document.querySelector('#df-ddeebfe6-ee69-4a37-b637-e0c76d68ec91');\n",
              "        const dataTable =\n",
              "          await google.colab.kernel.invokeFunction('convertToInteractive',\n",
              "                                                    [key], {});\n",
              "        if (!dataTable) return;\n",
              "\n",
              "        const docLinkHtml = 'Like what you see? Visit the ' +\n",
              "          '<a target=\"_blank\" href=https://colab.research.google.com/notebooks/data_table.ipynb>data table notebook</a>'\n",
              "          + ' to learn more about interactive tables.';\n",
              "        element.innerHTML = '';\n",
              "        dataTable['output_type'] = 'display_data';\n",
              "        await google.colab.output.renderOutput(dataTable, element);\n",
              "        const docLink = document.createElement('div');\n",
              "        docLink.innerHTML = docLinkHtml;\n",
              "        element.appendChild(docLink);\n",
              "      }\n",
              "    </script>\n",
              "  </div>\n",
              "\n",
              "\n",
              "<div id=\"df-a82f506a-5439-41e2-b9d6-a3800c78b229\">\n",
              "  <button class=\"colab-df-quickchart\" onclick=\"quickchart('df-a82f506a-5439-41e2-b9d6-a3800c78b229')\"\n",
              "            title=\"Suggest charts\"\n",
              "            style=\"display:none;\">\n",
              "\n",
              "<svg xmlns=\"http://www.w3.org/2000/svg\" height=\"24px\"viewBox=\"0 0 24 24\"\n",
              "     width=\"24px\">\n",
              "    <g>\n",
              "        <path d=\"M19 3H5c-1.1 0-2 .9-2 2v14c0 1.1.9 2 2 2h14c1.1 0 2-.9 2-2V5c0-1.1-.9-2-2-2zM9 17H7v-7h2v7zm4 0h-2V7h2v10zm4 0h-2v-4h2v4z\"/>\n",
              "    </g>\n",
              "</svg>\n",
              "  </button>\n",
              "\n",
              "<style>\n",
              "  .colab-df-quickchart {\n",
              "      --bg-color: #E8F0FE;\n",
              "      --fill-color: #1967D2;\n",
              "      --hover-bg-color: #E2EBFA;\n",
              "      --hover-fill-color: #174EA6;\n",
              "      --disabled-fill-color: #AAA;\n",
              "      --disabled-bg-color: #DDD;\n",
              "  }\n",
              "\n",
              "  [theme=dark] .colab-df-quickchart {\n",
              "      --bg-color: #3B4455;\n",
              "      --fill-color: #D2E3FC;\n",
              "      --hover-bg-color: #434B5C;\n",
              "      --hover-fill-color: #FFFFFF;\n",
              "      --disabled-bg-color: #3B4455;\n",
              "      --disabled-fill-color: #666;\n",
              "  }\n",
              "\n",
              "  .colab-df-quickchart {\n",
              "    background-color: var(--bg-color);\n",
              "    border: none;\n",
              "    border-radius: 50%;\n",
              "    cursor: pointer;\n",
              "    display: none;\n",
              "    fill: var(--fill-color);\n",
              "    height: 32px;\n",
              "    padding: 0;\n",
              "    width: 32px;\n",
              "  }\n",
              "\n",
              "  .colab-df-quickchart:hover {\n",
              "    background-color: var(--hover-bg-color);\n",
              "    box-shadow: 0 1px 2px rgba(60, 64, 67, 0.3), 0 1px 3px 1px rgba(60, 64, 67, 0.15);\n",
              "    fill: var(--button-hover-fill-color);\n",
              "  }\n",
              "\n",
              "  .colab-df-quickchart-complete:disabled,\n",
              "  .colab-df-quickchart-complete:disabled:hover {\n",
              "    background-color: var(--disabled-bg-color);\n",
              "    fill: var(--disabled-fill-color);\n",
              "    box-shadow: none;\n",
              "  }\n",
              "\n",
              "  .colab-df-spinner {\n",
              "    border: 2px solid var(--fill-color);\n",
              "    border-color: transparent;\n",
              "    border-bottom-color: var(--fill-color);\n",
              "    animation:\n",
              "      spin 1s steps(1) infinite;\n",
              "  }\n",
              "\n",
              "  @keyframes spin {\n",
              "    0% {\n",
              "      border-color: transparent;\n",
              "      border-bottom-color: var(--fill-color);\n",
              "      border-left-color: var(--fill-color);\n",
              "    }\n",
              "    20% {\n",
              "      border-color: transparent;\n",
              "      border-left-color: var(--fill-color);\n",
              "      border-top-color: var(--fill-color);\n",
              "    }\n",
              "    30% {\n",
              "      border-color: transparent;\n",
              "      border-left-color: var(--fill-color);\n",
              "      border-top-color: var(--fill-color);\n",
              "      border-right-color: var(--fill-color);\n",
              "    }\n",
              "    40% {\n",
              "      border-color: transparent;\n",
              "      border-right-color: var(--fill-color);\n",
              "      border-top-color: var(--fill-color);\n",
              "    }\n",
              "    60% {\n",
              "      border-color: transparent;\n",
              "      border-right-color: var(--fill-color);\n",
              "    }\n",
              "    80% {\n",
              "      border-color: transparent;\n",
              "      border-right-color: var(--fill-color);\n",
              "      border-bottom-color: var(--fill-color);\n",
              "    }\n",
              "    90% {\n",
              "      border-color: transparent;\n",
              "      border-bottom-color: var(--fill-color);\n",
              "    }\n",
              "  }\n",
              "</style>\n",
              "\n",
              "  <script>\n",
              "    async function quickchart(key) {\n",
              "      const quickchartButtonEl =\n",
              "        document.querySelector('#' + key + ' button');\n",
              "      quickchartButtonEl.disabled = true;  // To prevent multiple clicks.\n",
              "      quickchartButtonEl.classList.add('colab-df-spinner');\n",
              "      try {\n",
              "        const charts = await google.colab.kernel.invokeFunction(\n",
              "            'suggestCharts', [key], {});\n",
              "      } catch (error) {\n",
              "        console.error('Error during call to suggestCharts:', error);\n",
              "      }\n",
              "      quickchartButtonEl.classList.remove('colab-df-spinner');\n",
              "      quickchartButtonEl.classList.add('colab-df-quickchart-complete');\n",
              "    }\n",
              "    (() => {\n",
              "      let quickchartButtonEl =\n",
              "        document.querySelector('#df-a82f506a-5439-41e2-b9d6-a3800c78b229 button');\n",
              "      quickchartButtonEl.style.display =\n",
              "        google.colab.kernel.accessAllowed ? 'block' : 'none';\n",
              "    })();\n",
              "  </script>\n",
              "</div>\n",
              "    </div>\n",
              "  </div>\n"
            ]
          },
          "metadata": {},
          "execution_count": 40
        }
      ]
    },
    {
      "cell_type": "markdown",
      "source": [
        "We only keep the signals which the values in signal_quality column is less than 128.\n",
        "\n",
        "In this data, signal_quality = 0 shows the best calibration"
      ],
      "metadata": {
        "id": "KwPpV7Xh5Z18"
      }
    },
    {
      "cell_type": "code",
      "source": [
        "QUALITY_THRESHOLD = 128\n",
        "df = df.loc[df[\"signal_quality\"] < QUALITY_THRESHOLD]"
      ],
      "metadata": {
        "id": "OC0SbatZ4sFI"
      },
      "execution_count": null,
      "outputs": []
    },
    {
      "cell_type": "code",
      "source": [
        "df.info()"
      ],
      "metadata": {
        "colab": {
          "base_uri": "https://localhost:8080/"
        },
        "id": "xDIt153e6Xfc",
        "outputId": "b1ae42f6-847d-45c9-87e5-d3332e4d1ad3"
      },
      "execution_count": null,
      "outputs": [
        {
          "output_type": "stream",
          "name": "stdout",
          "text": [
            "<class 'pandas.core.frame.DataFrame'>\n",
            "Int64Index: 9954 entries, 0 to 9958\n",
            "Data columns (total 5 columns):\n",
            " #   Column          Non-Null Count  Dtype \n",
            "---  ------          --------------  ----- \n",
            " 0   id              9954 non-null   int64 \n",
            " 1   eeg_power       9954 non-null   object\n",
            " 2   raw_values      9954 non-null   object\n",
            " 3   signal_quality  9954 non-null   int64 \n",
            " 4   label           9954 non-null   object\n",
            "dtypes: int64(2), object(3)\n",
            "memory usage: 466.6+ KB\n"
          ]
        }
      ]
    },
    {
      "cell_type": "code",
      "source": [
        "type(df['raw_values'].values[0])"
      ],
      "metadata": {
        "colab": {
          "base_uri": "https://localhost:8080/"
        },
        "id": "_f0oZwi76cnP",
        "outputId": "be014b53-068b-4c65-af01-a68119fd88b3"
      },
      "execution_count": null,
      "outputs": [
        {
          "output_type": "execute_result",
          "data": {
            "text/plain": [
              "str"
            ]
          },
          "metadata": {},
          "execution_count": 43
        }
      ]
    },
    {
      "cell_type": "code",
      "source": [
        "\n",
        "def convert_string_data_to_values(value_string):\n",
        "    # since the values in raw_values column are string we need to convert them\n",
        "    str_list = json.loads(value_string)\n",
        "    return str_list\n",
        "\n",
        "df[\"raw_values\"] = df[\"raw_values\"].apply(convert_string_data_to_values)\n",
        "df.head()"
      ],
      "metadata": {
        "colab": {
          "base_uri": "https://localhost:8080/",
          "height": 206
        },
        "id": "FL7yamRo6K5p",
        "outputId": "55cd9cd4-03d7-42bb-8b25-e2a7dc1a66f5"
      },
      "execution_count": null,
      "outputs": [
        {
          "output_type": "execute_result",
          "data": {
            "text/plain": [
              "   id                                          eeg_power  \\\n",
              "0   7  [56887.0, 45471.0, 20074.0, 5359.0, 22594.0, 7...   \n",
              "1   5  [11626.0, 60301.0, 5805.0, 15729.0, 4448.0, 33...   \n",
              "2   1  [15777.0, 33461.0, 21385.0, 44193.0, 11741.0, ...   \n",
              "3  13  [311822.0, 44739.0, 19000.0, 19100.0, 2650.0, ...   \n",
              "4   4  [687393.0, 10289.0, 2942.0, 9874.0, 1059.0, 29...   \n",
              "\n",
              "                                          raw_values  signal_quality  \\\n",
              "0  [99.0, 96.0, 91.0, 89.0, 91.0, 89.0, 87.0, 93....               0   \n",
              "1  [23.0, 40.0, 64.0, 89.0, 86.0, 33.0, -14.0, -1...               0   \n",
              "2  [41.0, 26.0, 16.0, 20.0, 34.0, 51.0, 56.0, 55....               0   \n",
              "3  [208.0, 198.0, 122.0, 84.0, 161.0, 249.0, 216....               0   \n",
              "4  [129.0, 133.0, 114.0, 105.0, 101.0, 109.0, 99....               0   \n",
              "\n",
              "              label  \n",
              "0  blinkInstruction  \n",
              "1  blinkInstruction  \n",
              "2  blinkInstruction  \n",
              "3  blinkInstruction  \n",
              "4  blinkInstruction  "
            ],
            "text/html": [
              "\n",
              "  <div id=\"df-0d4b0259-fddb-4e3a-b126-5be07ccf1be7\" class=\"colab-df-container\">\n",
              "    <div>\n",
              "<style scoped>\n",
              "    .dataframe tbody tr th:only-of-type {\n",
              "        vertical-align: middle;\n",
              "    }\n",
              "\n",
              "    .dataframe tbody tr th {\n",
              "        vertical-align: top;\n",
              "    }\n",
              "\n",
              "    .dataframe thead th {\n",
              "        text-align: right;\n",
              "    }\n",
              "</style>\n",
              "<table border=\"1\" class=\"dataframe\">\n",
              "  <thead>\n",
              "    <tr style=\"text-align: right;\">\n",
              "      <th></th>\n",
              "      <th>id</th>\n",
              "      <th>eeg_power</th>\n",
              "      <th>raw_values</th>\n",
              "      <th>signal_quality</th>\n",
              "      <th>label</th>\n",
              "    </tr>\n",
              "  </thead>\n",
              "  <tbody>\n",
              "    <tr>\n",
              "      <th>0</th>\n",
              "      <td>7</td>\n",
              "      <td>[56887.0, 45471.0, 20074.0, 5359.0, 22594.0, 7...</td>\n",
              "      <td>[99.0, 96.0, 91.0, 89.0, 91.0, 89.0, 87.0, 93....</td>\n",
              "      <td>0</td>\n",
              "      <td>blinkInstruction</td>\n",
              "    </tr>\n",
              "    <tr>\n",
              "      <th>1</th>\n",
              "      <td>5</td>\n",
              "      <td>[11626.0, 60301.0, 5805.0, 15729.0, 4448.0, 33...</td>\n",
              "      <td>[23.0, 40.0, 64.0, 89.0, 86.0, 33.0, -14.0, -1...</td>\n",
              "      <td>0</td>\n",
              "      <td>blinkInstruction</td>\n",
              "    </tr>\n",
              "    <tr>\n",
              "      <th>2</th>\n",
              "      <td>1</td>\n",
              "      <td>[15777.0, 33461.0, 21385.0, 44193.0, 11741.0, ...</td>\n",
              "      <td>[41.0, 26.0, 16.0, 20.0, 34.0, 51.0, 56.0, 55....</td>\n",
              "      <td>0</td>\n",
              "      <td>blinkInstruction</td>\n",
              "    </tr>\n",
              "    <tr>\n",
              "      <th>3</th>\n",
              "      <td>13</td>\n",
              "      <td>[311822.0, 44739.0, 19000.0, 19100.0, 2650.0, ...</td>\n",
              "      <td>[208.0, 198.0, 122.0, 84.0, 161.0, 249.0, 216....</td>\n",
              "      <td>0</td>\n",
              "      <td>blinkInstruction</td>\n",
              "    </tr>\n",
              "    <tr>\n",
              "      <th>4</th>\n",
              "      <td>4</td>\n",
              "      <td>[687393.0, 10289.0, 2942.0, 9874.0, 1059.0, 29...</td>\n",
              "      <td>[129.0, 133.0, 114.0, 105.0, 101.0, 109.0, 99....</td>\n",
              "      <td>0</td>\n",
              "      <td>blinkInstruction</td>\n",
              "    </tr>\n",
              "  </tbody>\n",
              "</table>\n",
              "</div>\n",
              "    <div class=\"colab-df-buttons\">\n",
              "\n",
              "  <div class=\"colab-df-container\">\n",
              "    <button class=\"colab-df-convert\" onclick=\"convertToInteractive('df-0d4b0259-fddb-4e3a-b126-5be07ccf1be7')\"\n",
              "            title=\"Convert this dataframe to an interactive table.\"\n",
              "            style=\"display:none;\">\n",
              "\n",
              "  <svg xmlns=\"http://www.w3.org/2000/svg\" height=\"24px\" viewBox=\"0 -960 960 960\">\n",
              "    <path d=\"M120-120v-720h720v720H120Zm60-500h600v-160H180v160Zm220 220h160v-160H400v160Zm0 220h160v-160H400v160ZM180-400h160v-160H180v160Zm440 0h160v-160H620v160ZM180-180h160v-160H180v160Zm440 0h160v-160H620v160Z\"/>\n",
              "  </svg>\n",
              "    </button>\n",
              "\n",
              "  <style>\n",
              "    .colab-df-container {\n",
              "      display:flex;\n",
              "      gap: 12px;\n",
              "    }\n",
              "\n",
              "    .colab-df-convert {\n",
              "      background-color: #E8F0FE;\n",
              "      border: none;\n",
              "      border-radius: 50%;\n",
              "      cursor: pointer;\n",
              "      display: none;\n",
              "      fill: #1967D2;\n",
              "      height: 32px;\n",
              "      padding: 0 0 0 0;\n",
              "      width: 32px;\n",
              "    }\n",
              "\n",
              "    .colab-df-convert:hover {\n",
              "      background-color: #E2EBFA;\n",
              "      box-shadow: 0px 1px 2px rgba(60, 64, 67, 0.3), 0px 1px 3px 1px rgba(60, 64, 67, 0.15);\n",
              "      fill: #174EA6;\n",
              "    }\n",
              "\n",
              "    .colab-df-buttons div {\n",
              "      margin-bottom: 4px;\n",
              "    }\n",
              "\n",
              "    [theme=dark] .colab-df-convert {\n",
              "      background-color: #3B4455;\n",
              "      fill: #D2E3FC;\n",
              "    }\n",
              "\n",
              "    [theme=dark] .colab-df-convert:hover {\n",
              "      background-color: #434B5C;\n",
              "      box-shadow: 0px 1px 3px 1px rgba(0, 0, 0, 0.15);\n",
              "      filter: drop-shadow(0px 1px 2px rgba(0, 0, 0, 0.3));\n",
              "      fill: #FFFFFF;\n",
              "    }\n",
              "  </style>\n",
              "\n",
              "    <script>\n",
              "      const buttonEl =\n",
              "        document.querySelector('#df-0d4b0259-fddb-4e3a-b126-5be07ccf1be7 button.colab-df-convert');\n",
              "      buttonEl.style.display =\n",
              "        google.colab.kernel.accessAllowed ? 'block' : 'none';\n",
              "\n",
              "      async function convertToInteractive(key) {\n",
              "        const element = document.querySelector('#df-0d4b0259-fddb-4e3a-b126-5be07ccf1be7');\n",
              "        const dataTable =\n",
              "          await google.colab.kernel.invokeFunction('convertToInteractive',\n",
              "                                                    [key], {});\n",
              "        if (!dataTable) return;\n",
              "\n",
              "        const docLinkHtml = 'Like what you see? Visit the ' +\n",
              "          '<a target=\"_blank\" href=https://colab.research.google.com/notebooks/data_table.ipynb>data table notebook</a>'\n",
              "          + ' to learn more about interactive tables.';\n",
              "        element.innerHTML = '';\n",
              "        dataTable['output_type'] = 'display_data';\n",
              "        await google.colab.output.renderOutput(dataTable, element);\n",
              "        const docLink = document.createElement('div');\n",
              "        docLink.innerHTML = docLinkHtml;\n",
              "        element.appendChild(docLink);\n",
              "      }\n",
              "    </script>\n",
              "  </div>\n",
              "\n",
              "\n",
              "<div id=\"df-d8330eee-3e98-41eb-9043-7ba3cbb89696\">\n",
              "  <button class=\"colab-df-quickchart\" onclick=\"quickchart('df-d8330eee-3e98-41eb-9043-7ba3cbb89696')\"\n",
              "            title=\"Suggest charts\"\n",
              "            style=\"display:none;\">\n",
              "\n",
              "<svg xmlns=\"http://www.w3.org/2000/svg\" height=\"24px\"viewBox=\"0 0 24 24\"\n",
              "     width=\"24px\">\n",
              "    <g>\n",
              "        <path d=\"M19 3H5c-1.1 0-2 .9-2 2v14c0 1.1.9 2 2 2h14c1.1 0 2-.9 2-2V5c0-1.1-.9-2-2-2zM9 17H7v-7h2v7zm4 0h-2V7h2v10zm4 0h-2v-4h2v4z\"/>\n",
              "    </g>\n",
              "</svg>\n",
              "  </button>\n",
              "\n",
              "<style>\n",
              "  .colab-df-quickchart {\n",
              "      --bg-color: #E8F0FE;\n",
              "      --fill-color: #1967D2;\n",
              "      --hover-bg-color: #E2EBFA;\n",
              "      --hover-fill-color: #174EA6;\n",
              "      --disabled-fill-color: #AAA;\n",
              "      --disabled-bg-color: #DDD;\n",
              "  }\n",
              "\n",
              "  [theme=dark] .colab-df-quickchart {\n",
              "      --bg-color: #3B4455;\n",
              "      --fill-color: #D2E3FC;\n",
              "      --hover-bg-color: #434B5C;\n",
              "      --hover-fill-color: #FFFFFF;\n",
              "      --disabled-bg-color: #3B4455;\n",
              "      --disabled-fill-color: #666;\n",
              "  }\n",
              "\n",
              "  .colab-df-quickchart {\n",
              "    background-color: var(--bg-color);\n",
              "    border: none;\n",
              "    border-radius: 50%;\n",
              "    cursor: pointer;\n",
              "    display: none;\n",
              "    fill: var(--fill-color);\n",
              "    height: 32px;\n",
              "    padding: 0;\n",
              "    width: 32px;\n",
              "  }\n",
              "\n",
              "  .colab-df-quickchart:hover {\n",
              "    background-color: var(--hover-bg-color);\n",
              "    box-shadow: 0 1px 2px rgba(60, 64, 67, 0.3), 0 1px 3px 1px rgba(60, 64, 67, 0.15);\n",
              "    fill: var(--button-hover-fill-color);\n",
              "  }\n",
              "\n",
              "  .colab-df-quickchart-complete:disabled,\n",
              "  .colab-df-quickchart-complete:disabled:hover {\n",
              "    background-color: var(--disabled-bg-color);\n",
              "    fill: var(--disabled-fill-color);\n",
              "    box-shadow: none;\n",
              "  }\n",
              "\n",
              "  .colab-df-spinner {\n",
              "    border: 2px solid var(--fill-color);\n",
              "    border-color: transparent;\n",
              "    border-bottom-color: var(--fill-color);\n",
              "    animation:\n",
              "      spin 1s steps(1) infinite;\n",
              "  }\n",
              "\n",
              "  @keyframes spin {\n",
              "    0% {\n",
              "      border-color: transparent;\n",
              "      border-bottom-color: var(--fill-color);\n",
              "      border-left-color: var(--fill-color);\n",
              "    }\n",
              "    20% {\n",
              "      border-color: transparent;\n",
              "      border-left-color: var(--fill-color);\n",
              "      border-top-color: var(--fill-color);\n",
              "    }\n",
              "    30% {\n",
              "      border-color: transparent;\n",
              "      border-left-color: var(--fill-color);\n",
              "      border-top-color: var(--fill-color);\n",
              "      border-right-color: var(--fill-color);\n",
              "    }\n",
              "    40% {\n",
              "      border-color: transparent;\n",
              "      border-right-color: var(--fill-color);\n",
              "      border-top-color: var(--fill-color);\n",
              "    }\n",
              "    60% {\n",
              "      border-color: transparent;\n",
              "      border-right-color: var(--fill-color);\n",
              "    }\n",
              "    80% {\n",
              "      border-color: transparent;\n",
              "      border-right-color: var(--fill-color);\n",
              "      border-bottom-color: var(--fill-color);\n",
              "    }\n",
              "    90% {\n",
              "      border-color: transparent;\n",
              "      border-bottom-color: var(--fill-color);\n",
              "    }\n",
              "  }\n",
              "</style>\n",
              "\n",
              "  <script>\n",
              "    async function quickchart(key) {\n",
              "      const quickchartButtonEl =\n",
              "        document.querySelector('#' + key + ' button');\n",
              "      quickchartButtonEl.disabled = true;  // To prevent multiple clicks.\n",
              "      quickchartButtonEl.classList.add('colab-df-spinner');\n",
              "      try {\n",
              "        const charts = await google.colab.kernel.invokeFunction(\n",
              "            'suggestCharts', [key], {});\n",
              "      } catch (error) {\n",
              "        console.error('Error during call to suggestCharts:', error);\n",
              "      }\n",
              "      quickchartButtonEl.classList.remove('colab-df-spinner');\n",
              "      quickchartButtonEl.classList.add('colab-df-quickchart-complete');\n",
              "    }\n",
              "    (() => {\n",
              "      let quickchartButtonEl =\n",
              "        document.querySelector('#df-d8330eee-3e98-41eb-9043-7ba3cbb89696 button');\n",
              "      quickchartButtonEl.style.display =\n",
              "        google.colab.kernel.accessAllowed ? 'block' : 'none';\n",
              "    })();\n",
              "  </script>\n",
              "</div>\n",
              "    </div>\n",
              "  </div>\n"
            ]
          },
          "metadata": {},
          "execution_count": 44
        }
      ]
    },
    {
      "cell_type": "code",
      "source": [
        "type(df['raw_values'].values[0][0])"
      ],
      "metadata": {
        "colab": {
          "base_uri": "https://localhost:8080/"
        },
        "id": "k3XofXOl6lqK",
        "outputId": "192e04f2-6259-4e7c-b22b-7ab19cb9167a"
      },
      "execution_count": null,
      "outputs": [
        {
          "output_type": "execute_result",
          "data": {
            "text/plain": [
              "float"
            ]
          },
          "metadata": {},
          "execution_count": 45
        }
      ]
    },
    {
      "cell_type": "markdown",
      "source": [
        "### plotting a sample"
      ],
      "metadata": {
        "id": "Ob1vNH2j6w_h"
      }
    },
    {
      "cell_type": "code",
      "source": [
        "def view_eeg_plot(idx):\n",
        "    data = df.loc[idx, \"raw_values\"]\n",
        "    plt.plot(data)\n",
        "    plt.title(f\"Sample random plot\")\n",
        "    plt.show()\n",
        "\n",
        "view_eeg_plot(7)"
      ],
      "metadata": {
        "colab": {
          "base_uri": "https://localhost:8080/",
          "height": 452
        },
        "id": "3d4V8HSj6vV1",
        "outputId": "59677905-a8d7-456d-cd82-3ee2a34cf89f"
      },
      "execution_count": null,
      "outputs": [
        {
          "output_type": "display_data",
          "data": {
            "text/plain": [
              "<Figure size 640x480 with 1 Axes>"
            ],
            "image/png": "[encoded data removed]"
          },
          "metadata": {}
        }
      ]
    },
    {
      "cell_type": "code",
      "source": [
        "print(df['label'].unique())\n",
        "print(df['label'].nunique())"
      ],
      "metadata": {
        "colab": {
          "base_uri": "https://localhost:8080/"
        },
        "id": "OObcwZKM_9o7",
        "outputId": "1c18ade8-67ba-4834-c11a-9408c666ea7e"
      },
      "execution_count": null,
      "outputs": [
        {
          "output_type": "execute_result",
          "data": {
            "text/plain": [
              "array(['blinkInstruction', 'blink1', 'blink2', 'blink3', 'blink4',\n",
              "       'blink5', 'relaxInstruction', 'relax', 'mathInstruction', 'math1',\n",
              "       'math2', 'math3', 'math4', 'math5', 'math6', 'math7', 'math8',\n",
              "       'math9', 'math10', 'math11', 'math12', 'musicInstruction', 'music',\n",
              "       'videoInstruction', 'video-ver1', 'thinkOfItemsInstruction-ver1',\n",
              "       'thinkOfItems-ver1', 'colorInstruction1', 'colorInstruction2',\n",
              "       'readyRound1', 'colorRound1-1', 'colorRound1-2', 'colorRound1-3',\n",
              "       'colorRound1-4', 'colorRound1-5', 'colorRound1-6', 'readyRound2',\n",
              "       'colorRound2-1', 'colorRound2-2', 'colorRound2-3', 'colorRound2-4',\n",
              "       'colorRound2-5', 'colorRound2-6', 'readyRound3', 'colorRound3-1',\n",
              "       'colorRound3-2', 'colorRound3-3', 'colorRound3-4', 'colorRound3-5',\n",
              "       'colorRound3-6', 'readyRound4', 'colorRound4-1', 'colorRound4-2',\n",
              "       'colorRound4-3', 'colorRound4-4', 'colorRound4-5', 'colorRound4-6',\n",
              "       'readyRound5', 'colorRound5-1', 'colorRound5-2', 'colorRound5-3',\n",
              "       'colorRound5-4', 'colorRound5-5', 'colorRound5-6', 'video-ver2',\n",
              "       'thinkOfItemsInstruction-ver2', 'thinkOfItems-ver2'], dtype=object)"
            ]
          },
          "metadata": {},
          "execution_count": 48
        }
      ]
    },
    {
      "cell_type": "code",
      "source": [
        "def change_labels(label):\n",
        "  ref = ['blinkInstruction', 'blink', 'mathInstruction', 'math', 'thinkOfItemsInstruction', 'thinkOfItems', 'videoInstruction', 'video', 'colorRound1', 'colorRound2', 'colorRound3', 'colorRound4', 'colorRound5' , 'colorInstruction', 'readyRound']\n",
        "  for word in ref:\n",
        "    if word in label:\n",
        "      return word\n",
        "  else:\n",
        "    return label\n"
      ],
      "metadata": {
        "id": "5-5fKKIeAVB7"
      },
      "execution_count": null,
      "outputs": []
    },
    {
      "cell_type": "code",
      "source": [
        "df['label'] = df['label'].apply(change_labels)"
      ],
      "metadata": {
        "id": "pxqgdzRhDAtA"
      },
      "execution_count": null,
      "outputs": []
    },
    {
      "cell_type": "code",
      "source": [
        "print(df['label'].unique())\n",
        "print(df['label'].nunique())"
      ],
      "metadata": {
        "colab": {
          "base_uri": "https://localhost:8080/"
        },
        "id": "cgHMVOfhB0Xm",
        "outputId": "b2884d2a-b478-4b06-9ad3-535ce2f3ab28"
      },
      "execution_count": null,
      "outputs": [
        {
          "output_type": "stream",
          "name": "stdout",
          "text": [
            "['blinkInstruction' 'blink' 'relaxInstruction' 'relax' 'mathInstruction'\n",
            " 'math' 'musicInstruction' 'music' 'videoInstruction' 'video'\n",
            " 'thinkOfItemsInstruction' 'thinkOfItems' 'colorInstruction' 'readyRound'\n",
            " 'colorRound1' 'colorRound2' 'colorRound3' 'colorRound4' 'colorRound5']\n",
            "19\n"
          ]
        }
      ]
    },
    {
      "cell_type": "code",
      "source": [
        "plt.bar(df['label'].unique(), df[\"label\"].value_counts())\n",
        "plt.xticks(rotation=90)\n",
        "plt.title(\"Number of samples per class\")\n",
        "plt.show()"
      ],
      "metadata": {
        "colab": {
          "base_uri": "https://localhost:8080/",
          "height": 602
        },
        "id": "wEmgz7el3GhT",
        "outputId": "838d0f8c-7300-4b3d-9d85-4fab7ac843c8"
      },
      "execution_count": null,
      "outputs": [
        {
          "output_type": "display_data",
          "data": {
            "text/plain": [
              "<Figure size 640x480 with 1 Axes>"
            ],
            "image/png": "[encoded data removed]"
          },
          "metadata": {}
        }
      ]
    },
    {
      "cell_type": "code",
      "source": [
        "le = preprocessing.LabelEncoder()  # Generates a look-up table\n",
        "le.fit(df[\"label\"])\n",
        "df[\"label\"] = le.transform(df[\"label\"])"
      ],
      "metadata": {
        "id": "AunBj_7FK1Ua"
      },
      "execution_count": null,
      "outputs": []
    },
    {
      "cell_type": "markdown",
      "source": [
        "### Scaling"
      ],
      "metadata": {
        "id": "R8U_SGY-H4Av"
      }
    },
    {
      "cell_type": "code",
      "source": [
        "scaler = preprocessing.MinMaxScaler()\n",
        "\n",
        "series_list = [\n",
        "    scaler.fit_transform(np.asarray(i).reshape(-1, 1)) for i in df[\"raw_values\"]\n",
        "]"
      ],
      "metadata": {
        "id": "repk441fH3gz"
      },
      "execution_count": null,
      "outputs": []
    },
    {
      "cell_type": "code",
      "source": [
        "labels_list = [i for i in df[\"label\"]]"
      ],
      "metadata": {
        "id": "hiO8BCktKc9z"
      },
      "execution_count": null,
      "outputs": []
    },
    {
      "cell_type": "code",
      "source": [
        "x_train, x_test, y_train, y_test = model_selection.train_test_split(\n",
        "    series_list, labels_list, test_size=0.15, random_state=42, shuffle=True\n",
        ")\n",
        "\n",
        "print(\n",
        "    f\"Length of x_train : {len(x_train)}\\nLength of x_test : {len(x_test)}\\nLength of y_train : {len(y_train)}\\nLength of y_test : {len(y_test)}\"\n",
        ")\n",
        "\n",
        "x_train = np.asarray(x_train).astype(np.float32).reshape(-1, 512, 1)\n",
        "y_train = np.asarray(y_train).astype(np.float32).reshape(-1, 1)\n",
        "y_train = keras.utils.to_categorical(y_train)\n",
        "\n",
        "x_test = np.asarray(x_test).astype(np.float32).reshape(-1, 512, 1)\n",
        "y_test = np.asarray(y_test).astype(np.float32).reshape(-1, 1)\n",
        "y_test = keras.utils.to_categorical(y_test)"
      ],
      "metadata": {
        "colab": {
          "base_uri": "https://localhost:8080/"
        },
        "id": "tJgPLSKUKmFC",
        "outputId": "db43f3c1-0f22-4ddb-8482-3b3796c04265"
      },
      "execution_count": null,
      "outputs": [
        {
          "output_type": "stream",
          "name": "stdout",
          "text": [
            "Length of x_train : 8460\n",
            "Length of x_test : 1494\n",
            "Length of y_train : 8460\n",
            "Length of y_test : 1494\n"
          ]
        }
      ]
    },
    {
      "cell_type": "markdown",
      "source": [
        "## Setup and Config"
      ],
      "metadata": {
        "id": "xcb2CrL73wDi"
      }
    },
    {
      "cell_type": "code",
      "source": [
        "BATCH_SIZE = 64\n",
        "SHUFFLE_BUFFER_SIZE = BATCH_SIZE * 2"
      ],
      "metadata": {
        "id": "dk-snSrVctfk"
      },
      "execution_count": null,
      "outputs": []
    },
    {
      "cell_type": "markdown",
      "source": [
        "## conver data to tf.data.dataset format and batching"
      ],
      "metadata": {
        "id": "JL3SH7CSi_S6"
      }
    },
    {
      "cell_type": "code",
      "source": [
        "train_dataset = tf.data.Dataset.from_tensor_slices((x_train, y_train))\n",
        "test_dataset = tf.data.Dataset.from_tensor_slices((x_test, y_test))\n",
        "\n",
        "train_dataset = train_dataset.shuffle(SHUFFLE_BUFFER_SIZE).batch(BATCH_SIZE)\n",
        "test_dataset = test_dataset.batch(BATCH_SIZE)"
      ],
      "metadata": {
        "colab": {
          "base_uri": "https://localhost:8080/",
          "height": 227
        },
        "id": "XBHwcOEvK_uv",
        "outputId": "7e1624ea-f8c7-4f5f-d79a-b8173f988484"
      },
      "execution_count": null,
      "outputs": [
        {
          "output_type": "error",
          "ename": "NameError",
          "evalue": "name 'SHUFFLE_BUFFER_SIZE' is not defined",
          "traceback": [
            "\u001b[0;31m---------------------------------------------------------------------------\u001b[0m",
            "\u001b[0;31mNameError\u001b[0m                                 Traceback (most recent call last)",
            "\u001b[0;32m<ipython-input-115-42d91f921a5f>\u001b[0m in \u001b[0;36m<cell line: 4>\u001b[0;34m()\u001b[0m\n\u001b[1;32m      2\u001b[0m \u001b[0mtest_dataset\u001b[0m \u001b[0;34m=\u001b[0m \u001b[0mtf\u001b[0m\u001b[0;34m.\u001b[0m\u001b[0mdata\u001b[0m\u001b[0;34m.\u001b[0m\u001b[0mDataset\u001b[0m\u001b[0;34m.\u001b[0m\u001b[0mfrom_tensor_slices\u001b[0m\u001b[0;34m(\u001b[0m\u001b[0;34m(\u001b[0m\u001b[0mx_test\u001b[0m\u001b[0;34m,\u001b[0m \u001b[0my_test\u001b[0m\u001b[0;34m)\u001b[0m\u001b[0;34m)\u001b[0m\u001b[0;34m\u001b[0m\u001b[0;34m\u001b[0m\u001b[0m\n\u001b[1;32m      3\u001b[0m \u001b[0;34m\u001b[0m\u001b[0m\n\u001b[0;32m----> 4\u001b[0;31m \u001b[0mtrain_dataset\u001b[0m \u001b[0;34m=\u001b[0m \u001b[0mtrain_dataset\u001b[0m\u001b[0;34m.\u001b[0m\u001b[0mshuffle\u001b[0m\u001b[0;34m(\u001b[0m\u001b[0mSHUFFLE_BUFFER_SIZE\u001b[0m\u001b[0;34m)\u001b[0m\u001b[0;34m.\u001b[0m\u001b[0mbatch\u001b[0m\u001b[0;34m(\u001b[0m\u001b[0mBATCH_SIZE\u001b[0m\u001b[0;34m)\u001b[0m\u001b[0;34m\u001b[0m\u001b[0;34m\u001b[0m\u001b[0m\n\u001b[0m\u001b[1;32m      5\u001b[0m \u001b[0mtest_dataset\u001b[0m \u001b[0;34m=\u001b[0m \u001b[0mtest_dataset\u001b[0m\u001b[0;34m.\u001b[0m\u001b[0mbatch\u001b[0m\u001b[0;34m(\u001b[0m\u001b[0mBATCH_SIZE\u001b[0m\u001b[0;34m)\u001b[0m\u001b[0;34m\u001b[0m\u001b[0;34m\u001b[0m\u001b[0m\n",
            "\u001b[0;31mNameError\u001b[0m: name 'SHUFFLE_BUFFER_SIZE' is not defined"
          ]
        }
      ]
    },
    {
      "cell_type": "markdown",
      "source": [
        "# Class weights\n",
        "\n",
        "Since the data is imbalanced we need to specify the weight of each class to\n",
        "\n",
        "prevent it from being fitted on the classes with higher number of samples\n"
      ],
      "metadata": {
        "id": "6eh8HITDcW73"
      }
    },
    {
      "cell_type": "code",
      "source": [
        "vals_dict = {}\n",
        "for i in eeg[\"label\"]:\n",
        "    if i in vals_dict.keys():\n",
        "        vals_dict[i] += 1\n",
        "    else:\n",
        "        vals_dict[i] = 1\n",
        "total = sum(vals_dict.values())\n",
        "\n",
        "# Formula used - Naive method where\n",
        "# weight = 1 - (no. of samples present / total no. of samples)\n",
        "# So more the samples, lower the weight\n",
        "\n",
        "weight_dict = {k: (1 - (v / total)) for k, v in vals_dict.items()}\n",
        "print(weight_dict)"
      ],
      "metadata": {
        "id": "0BwEBvDacWFz"
      },
      "execution_count": null,
      "outputs": []
    },
    {
      "cell_type": "markdown",
      "source": [
        "# History plot"
      ],
      "metadata": {
        "id": "ksoBS24giu6Z"
      }
    },
    {
      "cell_type": "code",
      "source": [
        "def plot_history_metrics(history: keras.callbacks.History):\n",
        "    total_plots = len(history.history)\n",
        "    cols = total_plots // 2\n",
        "\n",
        "    rows = math.ceil(total_plots / cols)\n",
        "\n",
        "    plt.figure(figsize=(15, 10))\n",
        "    for i, (key, value) in enumerate(history.history.items()):\n",
        "        plt.subplot(rows, cols, i+1)\n",
        "        plt.plot(range(len(value)), value)\n",
        "        plt.title(str(key))\n",
        "    plt.show()"
      ],
      "metadata": {
        "id": "iHw95ay23Get"
      },
      "execution_count": null,
      "outputs": []
    },
    {
      "cell_type": "markdown",
      "source": [
        "# Model"
      ],
      "metadata": {
        "id": "anYQPkZJj3TE"
      }
    },
    {
      "cell_type": "code",
      "source": [
        "def create_model():\n",
        "    input_layer = keras.Input(shape=(512, 1))\n",
        "\n",
        "    x = layers.Conv1D(\n",
        "        filters=32, kernel_size=3, strides=2, activation=\"relu\", padding=\"same\"\n",
        "    )(input_layer)\n",
        "    x = layers.BatchNormalization()(x)\n",
        "\n",
        "    x = layers.Conv1D(\n",
        "        filters=64, kernel_size=3, strides=2, activation=\"relu\", padding=\"same\"\n",
        "    )(x)\n",
        "    x = layers.BatchNormalization()(x)\n",
        "\n",
        "    x = layers.Conv1D(\n",
        "        filters=128, kernel_size=5, strides=2, activation=\"relu\", padding=\"same\"\n",
        "    )(x)\n",
        "    x = layers.BatchNormalization()(x)\n",
        "\n",
        "    x = layers.Conv1D(\n",
        "        filters=256, kernel_size=5, strides=2, activation=\"relu\", padding=\"same\"\n",
        "    )(x)\n",
        "    x = layers.BatchNormalization()(x)\n",
        "\n",
        "    x = layers.Conv1D(\n",
        "        filters=512, kernel_size=7, strides=2, activation=\"relu\", padding=\"same\"\n",
        "    )(x)\n",
        "    x = layers.BatchNormalization()(x)\n",
        "\n",
        "    x = layers.Conv1D(\n",
        "        filters=1024,\n",
        "        kernel_size=7,\n",
        "        strides=2,\n",
        "        activation=\"relu\",\n",
        "        padding=\"same\",\n",
        "    )(x)\n",
        "    x = layers.BatchNormalization()(x)\n",
        "\n",
        "    x = layers.Dropout(0.2)(x)\n",
        "\n",
        "    x = layers.Flatten()(x)\n",
        "\n",
        "    x = layers.Dense(4096, activation=\"relu\")(x)\n",
        "    x = layers.Dropout(0.2)(x)\n",
        "\n",
        "    x = layers.Dense(\n",
        "        2048, activation=\"relu\", kernel_regularizer=keras.regularizers.L2()\n",
        "    )(x)\n",
        "    x = layers.Dropout(0.2)(x)\n",
        "\n",
        "    x = layers.Dense(\n",
        "        1024, activation=\"relu\", kernel_regularizer=keras.regularizers.L2()\n",
        "    )(x)\n",
        "    x = layers.Dropout(0.2)(x)\n",
        "    x = layers.Dense(\n",
        "        128, activation=\"relu\", kernel_regularizer=keras.regularizers.L2()\n",
        "    )(x)\n",
        "    output_layer = layers.Dense(num_classes, activation=\"softmax\")(x)\n",
        "\n",
        "    return keras.Model(inputs=input_layer, outputs=output_layer)"
      ],
      "metadata": {
        "id": "jarCy3SZj4hB"
      },
      "execution_count": null,
      "outputs": []
    }
  ]
}